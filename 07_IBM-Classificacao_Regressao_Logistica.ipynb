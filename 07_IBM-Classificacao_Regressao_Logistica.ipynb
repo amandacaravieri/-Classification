{
  "cells": [
    {
      "cell_type": "markdown",
      "metadata": {
        "button": false,
        "new_sheet": false,
        "run_control": {
          "read_only": false
        },
        "id": "cGjn182Y9tGD"
      },
      "source": [
        "# Logistic Regression with Python\n",
        "\n"
      ]
    },
    {
      "cell_type": "markdown",
      "metadata": {
        "button": false,
        "new_sheet": false,
        "run_control": {
          "read_only": false
        },
        "id": "XzPXG9bJ9tGJ"
      },
      "source": [
        "## Linear X Logistic Regression?\n",
        "\n",
        "While Linear Regression is suited for estimating continuous values (e.g. estimating house price), it is not the best tool for predicting the class of an observed data point. In order to estimate the class of a data point, we need some sort of guidance on what would be the <b>most probable class</b> for that data point. For this, we use <b>Logistic Regression</b>.\n",
        "\n",
        "<div class=\"alert alert-success alertsuccess\" style=\"margin-top: 20px\">\n",
        "<font size = 3><strong>Recall linear regression:</strong></font>\n",
        "<br>\n",
        "<br>\n",
        "    As you know, <b>Linear regression</b> finds a function that relates a continuous dependent variable, <b>y</b>, to some predictors (independent variables $x_1$, $x_2$, etc.). For example, simple linear regression assumes a function of the form:\n",
        "<br><br>\n",
        "$$\n",
        "y = \\theta_0 + \\theta_1  x_1 + \\theta_2  x_2 + \\cdots\n",
        "$$\n",
        "<br>\n",
        "and finds the values of parameters $\\theta_0, \\theta_1, \\theta_2$, etc, where the term $\\theta_0$ is the \"intercept\". It can be generally shown as:\n",
        "<br><br>\n",
        "$$\n",
        "ℎ_\\theta(𝑥) = \\theta^TX\n",
        "$$\n",
        "<p></p>\n",
        "\n",
        "</div>\n",
        "\n",
        "Logistic Regression is a variation of Linear Regression, used when the observed dependent variable, <b>y</b>, is categorical. It produces a formula that predicts the probability of the class label as a function of the independent variables.\n",
        "\n",
        "Logistic regression fits a special s-shaped curve by taking the linear regression function and transforming the numeric estimate into a probability with the following function, which is called the sigmoid function 𝜎:\n",
        "\n",
        "$$\n",
        "ℎ\\_\\theta(𝑥) = \\sigma({\\theta^TX}) =  \\frac {e^{(\\theta\\_0 + \\theta\\_1  x\\_1 + \\theta\\_2  x\\_2 +...)}}{1 + e^{(\\theta\\_0 + \\theta\\_1  x\\_1 + \\theta\\_2  x\\_2 +\\cdots)}}\n",
        "$$\n",
        "Or:\n",
        "$$\n",
        "ProbabilityOfaClass\\_1 =  P(Y=1|X) = \\sigma({\\theta^TX}) = \\frac{e^{\\theta^TX}}{1+e^{\\theta^TX}}\n",
        "$$\n",
        "\n",
        "In this equation, ${\\theta^TX}$ is the regression result (the sum of the variables weighted by the coefficients), `exp` is the exponential function and $\\sigma(\\theta^TX)$ is the sigmoid or [logistic function](http://en.wikipedia.org/wiki/Logistic_function?utm_medium=Exinfluencer&utm_source=Exinfluencer&utm_content=000026UJ&utm_term=10006555&utm_id=NA-SkillsNetwork-Channel-SkillsNetworkCoursesIBMDeveloperSkillsNetworkML0101ENSkillsNetwork20718538-2022-01-01), also called logistic curve. It is a common \"S\" shape (sigmoid curve).\n",
        "\n",
        "So, briefly, Logistic Regression passes the input through the logistic/sigmoid but then treats the result as a probability:\n",
        "\n",
        "<img\n",
        "src=\"https://cf-courses-data.s3.us.cloud-object-storage.appdomain.cloud/IBMDeveloperSkillsNetwork-ML0101EN-SkillsNetwork/labs/Module%203/images/mod_ID_24_final.png\" width=\"400\" align=\"center\">\n",
        "\n",
        "The objective of the **Logistic Regression** algorithm, is to find the best parameters θ, for $ℎ\\_\\theta(𝑥)$ = $\\sigma({\\theta^TX})$, in such a way that the model best predicts the class of each case.\n"
      ]
    },
    {
      "cell_type": "markdown",
      "metadata": {
        "id": "BRgoMHwk9tGK"
      },
      "source": [
        "## Customer churn with Logistic Regression\n",
        "\n",
        "A telecommunications company is concerned about the number of customers leaving their land-line business for cable competitors. They nee to understand who is leaving.\n"
      ]
    },
    {
      "cell_type": "code",
      "execution_count": 9,
      "metadata": {
        "colab": {
          "base_uri": "https://localhost:8080/"
        },
        "id": "7iC6IL4X9tGL",
        "outputId": "5288e93a-fc9b-41e9-d0d6-6b1aa3d765c8"
      },
      "outputs": [
        {
          "output_type": "stream",
          "name": "stdout",
          "text": [
            "Looking in indexes: https://pypi.org/simple, https://us-python.pkg.dev/colab-wheels/public/simple/\n",
            "Requirement already satisfied: scikit-learn==0.23.1 in /usr/local/lib/python3.7/dist-packages (0.23.1)\n",
            "Requirement already satisfied: scipy>=0.19.1 in /usr/local/lib/python3.7/dist-packages (from scikit-learn==0.23.1) (1.4.1)\n",
            "Requirement already satisfied: joblib>=0.11 in /usr/local/lib/python3.7/dist-packages (from scikit-learn==0.23.1) (1.1.0)\n",
            "Requirement already satisfied: numpy>=1.13.3 in /usr/local/lib/python3.7/dist-packages (from scikit-learn==0.23.1) (1.21.6)\n",
            "Requirement already satisfied: threadpoolctl>=2.0.0 in /usr/local/lib/python3.7/dist-packages (from scikit-learn==0.23.1) (3.1.0)\n"
          ]
        }
      ],
      "source": [
        "!pip install scikit-learn==0.23.1"
      ]
    },
    {
      "cell_type": "markdown",
      "metadata": {
        "button": false,
        "new_sheet": false,
        "run_control": {
          "read_only": false
        },
        "id": "xb5Am8By9tGM"
      },
      "source": [
        "Let's first import required libraries:\n"
      ]
    },
    {
      "cell_type": "code",
      "execution_count": 10,
      "metadata": {
        "button": false,
        "new_sheet": false,
        "run_control": {
          "read_only": false
        },
        "id": "5EJd_68K9tGN"
      },
      "outputs": [],
      "source": [
        "import pandas as pd\n",
        "import pylab as pl\n",
        "import numpy as np\n",
        "import scipy.optimize as opt\n",
        "from sklearn import preprocessing\n",
        "%matplotlib inline \n",
        "import matplotlib.pyplot as plt"
      ]
    },
    {
      "cell_type": "markdown",
      "metadata": {
        "button": false,
        "new_sheet": false,
        "run_control": {
          "read_only": false
        },
        "id": "rZ5fbeRe9tGO"
      },
      "source": [
        "## About the dataset\n",
        "We will use a telecommunications dataset for predicting customer churn. This is a historical customer dataset where each row represents one customer. The data is relatively easy to understand, and you may uncover insights you can use immediately. Typically it is less expensive to keep customers than acquire new ones, so the focus of this analysis is to predict the customers who will stay with the company. \n",
        "\n",
        "This data set provides information to help you predict what behavior will help you to retain customers. You can analyze all relevant customer data and develop focused customer retention programs.\n",
        "\n",
        "The dataset includes information about:\n",
        "\n",
        "*   Customers who left within the last month – the column is called Churn\n",
        "*   Services that each customer has signed up for – phone, multiple lines, internet, online security, online backup, device protection, tech support, and streaming TV and movies\n",
        "*   Customer account information – how long they had been a customer, contract, payment method, paperless billing, monthly charges, and total charges\n",
        "*   Demographic info about customers – gender, age range, and if they have partners and dependents\n"
      ]
    },
    {
      "cell_type": "markdown",
      "metadata": {
        "button": false,
        "new_sheet": false,
        "run_control": {
          "read_only": false
        },
        "id": "HADWyScz9tGP"
      },
      "source": [
        "## Load the Telco Churn data\n",
        "\n",
        "Telco Churn is a hypothetical data file that concerns a telecommunications company's efforts to reduce turnover in its customer base. Each case corresponds to a separate customer and it records various demographic and service usage information. Before you can work with the data, you must use the URL to get the ChurnData.csv.\n",
        "\n",
        "To download the data, we will use `!wget` to download it from IBM Object Storage.\n"
      ]
    },
    {
      "cell_type": "code",
      "execution_count": 11,
      "metadata": {
        "button": false,
        "new_sheet": false,
        "run_control": {
          "read_only": false
        },
        "colab": {
          "base_uri": "https://localhost:8080/"
        },
        "id": "FuDX2kXi9tGP",
        "outputId": "d6a0a543-173c-4cee-8081-6d9fade531ae"
      },
      "outputs": [
        {
          "output_type": "stream",
          "name": "stdout",
          "text": [
            "--2022-05-31 20:08:00--  https://cf-courses-data.s3.us.cloud-object-storage.appdomain.cloud/IBMDeveloperSkillsNetwork-ML0101EN-SkillsNetwork/labs/Module%203/data/ChurnData.csv\n",
            "Resolving cf-courses-data.s3.us.cloud-object-storage.appdomain.cloud (cf-courses-data.s3.us.cloud-object-storage.appdomain.cloud)... 169.63.118.104\n",
            "Connecting to cf-courses-data.s3.us.cloud-object-storage.appdomain.cloud (cf-courses-data.s3.us.cloud-object-storage.appdomain.cloud)|169.63.118.104|:443... connected.\n",
            "HTTP request sent, awaiting response... 200 OK\n",
            "Length: 35943 (35K) [text/csv]\n",
            "Saving to: ‘ChurnData.csv’\n",
            "\n",
            "ChurnData.csv       100%[===================>]  35.10K  --.-KB/s    in 0s      \n",
            "\n",
            "2022-05-31 20:08:00 (129 MB/s) - ‘ChurnData.csv’ saved [35943/35943]\n",
            "\n"
          ]
        }
      ],
      "source": [
        "!wget -O ChurnData.csv https://cf-courses-data.s3.us.cloud-object-storage.appdomain.cloud/IBMDeveloperSkillsNetwork-ML0101EN-SkillsNetwork/labs/Module%203/data/ChurnData.csv"
      ]
    },
    {
      "cell_type": "markdown",
      "metadata": {
        "button": false,
        "new_sheet": false,
        "run_control": {
          "read_only": false
        },
        "id": "GlMIkKUZ9tGQ"
      },
      "source": [
        "## Load Data From CSV File\n"
      ]
    },
    {
      "cell_type": "code",
      "execution_count": 12,
      "metadata": {
        "button": false,
        "new_sheet": false,
        "run_control": {
          "read_only": false
        },
        "colab": {
          "base_uri": "https://localhost:8080/",
          "height": 299
        },
        "id": "0pXBqgl89tGQ",
        "outputId": "2e9caaa5-e29f-43ef-af44-67dd53ecd195"
      },
      "outputs": [
        {
          "output_type": "execute_result",
          "data": {
            "text/plain": [
              "   tenure   age  address  income   ed  employ  equip  callcard  wireless  \\\n",
              "0    11.0  33.0      7.0   136.0  5.0     5.0    0.0       1.0       1.0   \n",
              "1    33.0  33.0     12.0    33.0  2.0     0.0    0.0       0.0       0.0   \n",
              "2    23.0  30.0      9.0    30.0  1.0     2.0    0.0       0.0       0.0   \n",
              "3    38.0  35.0      5.0    76.0  2.0    10.0    1.0       1.0       1.0   \n",
              "4     7.0  35.0     14.0    80.0  2.0    15.0    0.0       1.0       0.0   \n",
              "\n",
              "   longmon  ...  pager  internet  callwait  confer  ebill  loglong  logtoll  \\\n",
              "0     4.40  ...    1.0       0.0       1.0     1.0    0.0    1.482    3.033   \n",
              "1     9.45  ...    0.0       0.0       0.0     0.0    0.0    2.246    3.240   \n",
              "2     6.30  ...    0.0       0.0       0.0     1.0    0.0    1.841    3.240   \n",
              "3     6.05  ...    1.0       1.0       1.0     1.0    1.0    1.800    3.807   \n",
              "4     7.10  ...    0.0       0.0       1.0     1.0    0.0    1.960    3.091   \n",
              "\n",
              "   lninc  custcat  churn  \n",
              "0  4.913      4.0    1.0  \n",
              "1  3.497      1.0    1.0  \n",
              "2  3.401      3.0    0.0  \n",
              "3  4.331      4.0    0.0  \n",
              "4  4.382      3.0    0.0  \n",
              "\n",
              "[5 rows x 28 columns]"
            ],
            "text/html": [
              "\n",
              "  <div id=\"df-3705aa7d-9c7b-4fb2-b632-efb59b59d767\">\n",
              "    <div class=\"colab-df-container\">\n",
              "      <div>\n",
              "<style scoped>\n",
              "    .dataframe tbody tr th:only-of-type {\n",
              "        vertical-align: middle;\n",
              "    }\n",
              "\n",
              "    .dataframe tbody tr th {\n",
              "        vertical-align: top;\n",
              "    }\n",
              "\n",
              "    .dataframe thead th {\n",
              "        text-align: right;\n",
              "    }\n",
              "</style>\n",
              "<table border=\"1\" class=\"dataframe\">\n",
              "  <thead>\n",
              "    <tr style=\"text-align: right;\">\n",
              "      <th></th>\n",
              "      <th>tenure</th>\n",
              "      <th>age</th>\n",
              "      <th>address</th>\n",
              "      <th>income</th>\n",
              "      <th>ed</th>\n",
              "      <th>employ</th>\n",
              "      <th>equip</th>\n",
              "      <th>callcard</th>\n",
              "      <th>wireless</th>\n",
              "      <th>longmon</th>\n",
              "      <th>...</th>\n",
              "      <th>pager</th>\n",
              "      <th>internet</th>\n",
              "      <th>callwait</th>\n",
              "      <th>confer</th>\n",
              "      <th>ebill</th>\n",
              "      <th>loglong</th>\n",
              "      <th>logtoll</th>\n",
              "      <th>lninc</th>\n",
              "      <th>custcat</th>\n",
              "      <th>churn</th>\n",
              "    </tr>\n",
              "  </thead>\n",
              "  <tbody>\n",
              "    <tr>\n",
              "      <th>0</th>\n",
              "      <td>11.0</td>\n",
              "      <td>33.0</td>\n",
              "      <td>7.0</td>\n",
              "      <td>136.0</td>\n",
              "      <td>5.0</td>\n",
              "      <td>5.0</td>\n",
              "      <td>0.0</td>\n",
              "      <td>1.0</td>\n",
              "      <td>1.0</td>\n",
              "      <td>4.40</td>\n",
              "      <td>...</td>\n",
              "      <td>1.0</td>\n",
              "      <td>0.0</td>\n",
              "      <td>1.0</td>\n",
              "      <td>1.0</td>\n",
              "      <td>0.0</td>\n",
              "      <td>1.482</td>\n",
              "      <td>3.033</td>\n",
              "      <td>4.913</td>\n",
              "      <td>4.0</td>\n",
              "      <td>1.0</td>\n",
              "    </tr>\n",
              "    <tr>\n",
              "      <th>1</th>\n",
              "      <td>33.0</td>\n",
              "      <td>33.0</td>\n",
              "      <td>12.0</td>\n",
              "      <td>33.0</td>\n",
              "      <td>2.0</td>\n",
              "      <td>0.0</td>\n",
              "      <td>0.0</td>\n",
              "      <td>0.0</td>\n",
              "      <td>0.0</td>\n",
              "      <td>9.45</td>\n",
              "      <td>...</td>\n",
              "      <td>0.0</td>\n",
              "      <td>0.0</td>\n",
              "      <td>0.0</td>\n",
              "      <td>0.0</td>\n",
              "      <td>0.0</td>\n",
              "      <td>2.246</td>\n",
              "      <td>3.240</td>\n",
              "      <td>3.497</td>\n",
              "      <td>1.0</td>\n",
              "      <td>1.0</td>\n",
              "    </tr>\n",
              "    <tr>\n",
              "      <th>2</th>\n",
              "      <td>23.0</td>\n",
              "      <td>30.0</td>\n",
              "      <td>9.0</td>\n",
              "      <td>30.0</td>\n",
              "      <td>1.0</td>\n",
              "      <td>2.0</td>\n",
              "      <td>0.0</td>\n",
              "      <td>0.0</td>\n",
              "      <td>0.0</td>\n",
              "      <td>6.30</td>\n",
              "      <td>...</td>\n",
              "      <td>0.0</td>\n",
              "      <td>0.0</td>\n",
              "      <td>0.0</td>\n",
              "      <td>1.0</td>\n",
              "      <td>0.0</td>\n",
              "      <td>1.841</td>\n",
              "      <td>3.240</td>\n",
              "      <td>3.401</td>\n",
              "      <td>3.0</td>\n",
              "      <td>0.0</td>\n",
              "    </tr>\n",
              "    <tr>\n",
              "      <th>3</th>\n",
              "      <td>38.0</td>\n",
              "      <td>35.0</td>\n",
              "      <td>5.0</td>\n",
              "      <td>76.0</td>\n",
              "      <td>2.0</td>\n",
              "      <td>10.0</td>\n",
              "      <td>1.0</td>\n",
              "      <td>1.0</td>\n",
              "      <td>1.0</td>\n",
              "      <td>6.05</td>\n",
              "      <td>...</td>\n",
              "      <td>1.0</td>\n",
              "      <td>1.0</td>\n",
              "      <td>1.0</td>\n",
              "      <td>1.0</td>\n",
              "      <td>1.0</td>\n",
              "      <td>1.800</td>\n",
              "      <td>3.807</td>\n",
              "      <td>4.331</td>\n",
              "      <td>4.0</td>\n",
              "      <td>0.0</td>\n",
              "    </tr>\n",
              "    <tr>\n",
              "      <th>4</th>\n",
              "      <td>7.0</td>\n",
              "      <td>35.0</td>\n",
              "      <td>14.0</td>\n",
              "      <td>80.0</td>\n",
              "      <td>2.0</td>\n",
              "      <td>15.0</td>\n",
              "      <td>0.0</td>\n",
              "      <td>1.0</td>\n",
              "      <td>0.0</td>\n",
              "      <td>7.10</td>\n",
              "      <td>...</td>\n",
              "      <td>0.0</td>\n",
              "      <td>0.0</td>\n",
              "      <td>1.0</td>\n",
              "      <td>1.0</td>\n",
              "      <td>0.0</td>\n",
              "      <td>1.960</td>\n",
              "      <td>3.091</td>\n",
              "      <td>4.382</td>\n",
              "      <td>3.0</td>\n",
              "      <td>0.0</td>\n",
              "    </tr>\n",
              "  </tbody>\n",
              "</table>\n",
              "<p>5 rows × 28 columns</p>\n",
              "</div>\n",
              "      <button class=\"colab-df-convert\" onclick=\"convertToInteractive('df-3705aa7d-9c7b-4fb2-b632-efb59b59d767')\"\n",
              "              title=\"Convert this dataframe to an interactive table.\"\n",
              "              style=\"display:none;\">\n",
              "        \n",
              "  <svg xmlns=\"http://www.w3.org/2000/svg\" height=\"24px\"viewBox=\"0 0 24 24\"\n",
              "       width=\"24px\">\n",
              "    <path d=\"M0 0h24v24H0V0z\" fill=\"none\"/>\n",
              "    <path d=\"M18.56 5.44l.94 2.06.94-2.06 2.06-.94-2.06-.94-.94-2.06-.94 2.06-2.06.94zm-11 1L8.5 8.5l.94-2.06 2.06-.94-2.06-.94L8.5 2.5l-.94 2.06-2.06.94zm10 10l.94 2.06.94-2.06 2.06-.94-2.06-.94-.94-2.06-.94 2.06-2.06.94z\"/><path d=\"M17.41 7.96l-1.37-1.37c-.4-.4-.92-.59-1.43-.59-.52 0-1.04.2-1.43.59L10.3 9.45l-7.72 7.72c-.78.78-.78 2.05 0 2.83L4 21.41c.39.39.9.59 1.41.59.51 0 1.02-.2 1.41-.59l7.78-7.78 2.81-2.81c.8-.78.8-2.07 0-2.86zM5.41 20L4 18.59l7.72-7.72 1.47 1.35L5.41 20z\"/>\n",
              "  </svg>\n",
              "      </button>\n",
              "      \n",
              "  <style>\n",
              "    .colab-df-container {\n",
              "      display:flex;\n",
              "      flex-wrap:wrap;\n",
              "      gap: 12px;\n",
              "    }\n",
              "\n",
              "    .colab-df-convert {\n",
              "      background-color: #E8F0FE;\n",
              "      border: none;\n",
              "      border-radius: 50%;\n",
              "      cursor: pointer;\n",
              "      display: none;\n",
              "      fill: #1967D2;\n",
              "      height: 32px;\n",
              "      padding: 0 0 0 0;\n",
              "      width: 32px;\n",
              "    }\n",
              "\n",
              "    .colab-df-convert:hover {\n",
              "      background-color: #E2EBFA;\n",
              "      box-shadow: 0px 1px 2px rgba(60, 64, 67, 0.3), 0px 1px 3px 1px rgba(60, 64, 67, 0.15);\n",
              "      fill: #174EA6;\n",
              "    }\n",
              "\n",
              "    [theme=dark] .colab-df-convert {\n",
              "      background-color: #3B4455;\n",
              "      fill: #D2E3FC;\n",
              "    }\n",
              "\n",
              "    [theme=dark] .colab-df-convert:hover {\n",
              "      background-color: #434B5C;\n",
              "      box-shadow: 0px 1px 3px 1px rgba(0, 0, 0, 0.15);\n",
              "      filter: drop-shadow(0px 1px 2px rgba(0, 0, 0, 0.3));\n",
              "      fill: #FFFFFF;\n",
              "    }\n",
              "  </style>\n",
              "\n",
              "      <script>\n",
              "        const buttonEl =\n",
              "          document.querySelector('#df-3705aa7d-9c7b-4fb2-b632-efb59b59d767 button.colab-df-convert');\n",
              "        buttonEl.style.display =\n",
              "          google.colab.kernel.accessAllowed ? 'block' : 'none';\n",
              "\n",
              "        async function convertToInteractive(key) {\n",
              "          const element = document.querySelector('#df-3705aa7d-9c7b-4fb2-b632-efb59b59d767');\n",
              "          const dataTable =\n",
              "            await google.colab.kernel.invokeFunction('convertToInteractive',\n",
              "                                                     [key], {});\n",
              "          if (!dataTable) return;\n",
              "\n",
              "          const docLinkHtml = 'Like what you see? Visit the ' +\n",
              "            '<a target=\"_blank\" href=https://colab.research.google.com/notebooks/data_table.ipynb>data table notebook</a>'\n",
              "            + ' to learn more about interactive tables.';\n",
              "          element.innerHTML = '';\n",
              "          dataTable['output_type'] = 'display_data';\n",
              "          await google.colab.output.renderOutput(dataTable, element);\n",
              "          const docLink = document.createElement('div');\n",
              "          docLink.innerHTML = docLinkHtml;\n",
              "          element.appendChild(docLink);\n",
              "        }\n",
              "      </script>\n",
              "    </div>\n",
              "  </div>\n",
              "  "
            ]
          },
          "metadata": {},
          "execution_count": 12
        }
      ],
      "source": [
        "churn_df = pd.read_csv(\"ChurnData.csv\")\n",
        "churn_df.head()"
      ]
    },
    {
      "cell_type": "code",
      "source": [
        "print(list(churn_df.columns))"
      ],
      "metadata": {
        "colab": {
          "base_uri": "https://localhost:8080/"
        },
        "id": "djYebGzKNDRL",
        "outputId": "a77fae49-a752-4d92-9b87-28598aa93d1e"
      },
      "execution_count": 13,
      "outputs": [
        {
          "output_type": "stream",
          "name": "stdout",
          "text": [
            "['tenure', 'age', 'address', 'income', 'ed', 'employ', 'equip', 'callcard', 'wireless', 'longmon', 'tollmon', 'equipmon', 'cardmon', 'wiremon', 'longten', 'tollten', 'cardten', 'voice', 'pager', 'internet', 'callwait', 'confer', 'ebill', 'loglong', 'logtoll', 'lninc', 'custcat', 'churn']\n"
          ]
        }
      ]
    },
    {
      "cell_type": "code",
      "source": [
        "churn_df.shape"
      ],
      "metadata": {
        "colab": {
          "base_uri": "https://localhost:8080/"
        },
        "id": "fpF3V-2yNt97",
        "outputId": "6e707952-ccb2-472d-a032-60052a3467f9"
      },
      "execution_count": 14,
      "outputs": [
        {
          "output_type": "execute_result",
          "data": {
            "text/plain": [
              "(200, 28)"
            ]
          },
          "metadata": {},
          "execution_count": 14
        }
      ]
    },
    {
      "cell_type": "markdown",
      "metadata": {
        "id": "nHjUjj6a9tGR"
      },
      "source": [
        "## Data pre-processing and selection\n"
      ]
    },
    {
      "cell_type": "markdown",
      "metadata": {
        "id": "aOCI8ILE9tGR"
      },
      "source": [
        "Select some features for the modeling. Also, we change the target data type to be an integer, **as it is a requirement by the skitlearn algorithm**:\n"
      ]
    },
    {
      "cell_type": "code",
      "execution_count": 15,
      "metadata": {
        "colab": {
          "base_uri": "https://localhost:8080/",
          "height": 206
        },
        "id": "rsQ2JWnF9tGR",
        "outputId": "ba8adbb8-1523-4f21-97b8-15f958210214"
      },
      "outputs": [
        {
          "output_type": "execute_result",
          "data": {
            "text/plain": [
              "   tenure   age  address  income   ed  employ  equip  callcard  wireless  \\\n",
              "0    11.0  33.0      7.0   136.0  5.0     5.0    0.0       1.0       1.0   \n",
              "1    33.0  33.0     12.0    33.0  2.0     0.0    0.0       0.0       0.0   \n",
              "2    23.0  30.0      9.0    30.0  1.0     2.0    0.0       0.0       0.0   \n",
              "3    38.0  35.0      5.0    76.0  2.0    10.0    1.0       1.0       1.0   \n",
              "4     7.0  35.0     14.0    80.0  2.0    15.0    0.0       1.0       0.0   \n",
              "\n",
              "   churn  \n",
              "0      1  \n",
              "1      1  \n",
              "2      0  \n",
              "3      0  \n",
              "4      0  "
            ],
            "text/html": [
              "\n",
              "  <div id=\"df-400d88e9-1041-4808-940f-d5fd25333920\">\n",
              "    <div class=\"colab-df-container\">\n",
              "      <div>\n",
              "<style scoped>\n",
              "    .dataframe tbody tr th:only-of-type {\n",
              "        vertical-align: middle;\n",
              "    }\n",
              "\n",
              "    .dataframe tbody tr th {\n",
              "        vertical-align: top;\n",
              "    }\n",
              "\n",
              "    .dataframe thead th {\n",
              "        text-align: right;\n",
              "    }\n",
              "</style>\n",
              "<table border=\"1\" class=\"dataframe\">\n",
              "  <thead>\n",
              "    <tr style=\"text-align: right;\">\n",
              "      <th></th>\n",
              "      <th>tenure</th>\n",
              "      <th>age</th>\n",
              "      <th>address</th>\n",
              "      <th>income</th>\n",
              "      <th>ed</th>\n",
              "      <th>employ</th>\n",
              "      <th>equip</th>\n",
              "      <th>callcard</th>\n",
              "      <th>wireless</th>\n",
              "      <th>churn</th>\n",
              "    </tr>\n",
              "  </thead>\n",
              "  <tbody>\n",
              "    <tr>\n",
              "      <th>0</th>\n",
              "      <td>11.0</td>\n",
              "      <td>33.0</td>\n",
              "      <td>7.0</td>\n",
              "      <td>136.0</td>\n",
              "      <td>5.0</td>\n",
              "      <td>5.0</td>\n",
              "      <td>0.0</td>\n",
              "      <td>1.0</td>\n",
              "      <td>1.0</td>\n",
              "      <td>1</td>\n",
              "    </tr>\n",
              "    <tr>\n",
              "      <th>1</th>\n",
              "      <td>33.0</td>\n",
              "      <td>33.0</td>\n",
              "      <td>12.0</td>\n",
              "      <td>33.0</td>\n",
              "      <td>2.0</td>\n",
              "      <td>0.0</td>\n",
              "      <td>0.0</td>\n",
              "      <td>0.0</td>\n",
              "      <td>0.0</td>\n",
              "      <td>1</td>\n",
              "    </tr>\n",
              "    <tr>\n",
              "      <th>2</th>\n",
              "      <td>23.0</td>\n",
              "      <td>30.0</td>\n",
              "      <td>9.0</td>\n",
              "      <td>30.0</td>\n",
              "      <td>1.0</td>\n",
              "      <td>2.0</td>\n",
              "      <td>0.0</td>\n",
              "      <td>0.0</td>\n",
              "      <td>0.0</td>\n",
              "      <td>0</td>\n",
              "    </tr>\n",
              "    <tr>\n",
              "      <th>3</th>\n",
              "      <td>38.0</td>\n",
              "      <td>35.0</td>\n",
              "      <td>5.0</td>\n",
              "      <td>76.0</td>\n",
              "      <td>2.0</td>\n",
              "      <td>10.0</td>\n",
              "      <td>1.0</td>\n",
              "      <td>1.0</td>\n",
              "      <td>1.0</td>\n",
              "      <td>0</td>\n",
              "    </tr>\n",
              "    <tr>\n",
              "      <th>4</th>\n",
              "      <td>7.0</td>\n",
              "      <td>35.0</td>\n",
              "      <td>14.0</td>\n",
              "      <td>80.0</td>\n",
              "      <td>2.0</td>\n",
              "      <td>15.0</td>\n",
              "      <td>0.0</td>\n",
              "      <td>1.0</td>\n",
              "      <td>0.0</td>\n",
              "      <td>0</td>\n",
              "    </tr>\n",
              "  </tbody>\n",
              "</table>\n",
              "</div>\n",
              "      <button class=\"colab-df-convert\" onclick=\"convertToInteractive('df-400d88e9-1041-4808-940f-d5fd25333920')\"\n",
              "              title=\"Convert this dataframe to an interactive table.\"\n",
              "              style=\"display:none;\">\n",
              "        \n",
              "  <svg xmlns=\"http://www.w3.org/2000/svg\" height=\"24px\"viewBox=\"0 0 24 24\"\n",
              "       width=\"24px\">\n",
              "    <path d=\"M0 0h24v24H0V0z\" fill=\"none\"/>\n",
              "    <path d=\"M18.56 5.44l.94 2.06.94-2.06 2.06-.94-2.06-.94-.94-2.06-.94 2.06-2.06.94zm-11 1L8.5 8.5l.94-2.06 2.06-.94-2.06-.94L8.5 2.5l-.94 2.06-2.06.94zm10 10l.94 2.06.94-2.06 2.06-.94-2.06-.94-.94-2.06-.94 2.06-2.06.94z\"/><path d=\"M17.41 7.96l-1.37-1.37c-.4-.4-.92-.59-1.43-.59-.52 0-1.04.2-1.43.59L10.3 9.45l-7.72 7.72c-.78.78-.78 2.05 0 2.83L4 21.41c.39.39.9.59 1.41.59.51 0 1.02-.2 1.41-.59l7.78-7.78 2.81-2.81c.8-.78.8-2.07 0-2.86zM5.41 20L4 18.59l7.72-7.72 1.47 1.35L5.41 20z\"/>\n",
              "  </svg>\n",
              "      </button>\n",
              "      \n",
              "  <style>\n",
              "    .colab-df-container {\n",
              "      display:flex;\n",
              "      flex-wrap:wrap;\n",
              "      gap: 12px;\n",
              "    }\n",
              "\n",
              "    .colab-df-convert {\n",
              "      background-color: #E8F0FE;\n",
              "      border: none;\n",
              "      border-radius: 50%;\n",
              "      cursor: pointer;\n",
              "      display: none;\n",
              "      fill: #1967D2;\n",
              "      height: 32px;\n",
              "      padding: 0 0 0 0;\n",
              "      width: 32px;\n",
              "    }\n",
              "\n",
              "    .colab-df-convert:hover {\n",
              "      background-color: #E2EBFA;\n",
              "      box-shadow: 0px 1px 2px rgba(60, 64, 67, 0.3), 0px 1px 3px 1px rgba(60, 64, 67, 0.15);\n",
              "      fill: #174EA6;\n",
              "    }\n",
              "\n",
              "    [theme=dark] .colab-df-convert {\n",
              "      background-color: #3B4455;\n",
              "      fill: #D2E3FC;\n",
              "    }\n",
              "\n",
              "    [theme=dark] .colab-df-convert:hover {\n",
              "      background-color: #434B5C;\n",
              "      box-shadow: 0px 1px 3px 1px rgba(0, 0, 0, 0.15);\n",
              "      filter: drop-shadow(0px 1px 2px rgba(0, 0, 0, 0.3));\n",
              "      fill: #FFFFFF;\n",
              "    }\n",
              "  </style>\n",
              "\n",
              "      <script>\n",
              "        const buttonEl =\n",
              "          document.querySelector('#df-400d88e9-1041-4808-940f-d5fd25333920 button.colab-df-convert');\n",
              "        buttonEl.style.display =\n",
              "          google.colab.kernel.accessAllowed ? 'block' : 'none';\n",
              "\n",
              "        async function convertToInteractive(key) {\n",
              "          const element = document.querySelector('#df-400d88e9-1041-4808-940f-d5fd25333920');\n",
              "          const dataTable =\n",
              "            await google.colab.kernel.invokeFunction('convertToInteractive',\n",
              "                                                     [key], {});\n",
              "          if (!dataTable) return;\n",
              "\n",
              "          const docLinkHtml = 'Like what you see? Visit the ' +\n",
              "            '<a target=\"_blank\" href=https://colab.research.google.com/notebooks/data_table.ipynb>data table notebook</a>'\n",
              "            + ' to learn more about interactive tables.';\n",
              "          element.innerHTML = '';\n",
              "          dataTable['output_type'] = 'display_data';\n",
              "          await google.colab.output.renderOutput(dataTable, element);\n",
              "          const docLink = document.createElement('div');\n",
              "          docLink.innerHTML = docLinkHtml;\n",
              "          element.appendChild(docLink);\n",
              "        }\n",
              "      </script>\n",
              "    </div>\n",
              "  </div>\n",
              "  "
            ]
          },
          "metadata": {},
          "execution_count": 15
        }
      ],
      "source": [
        "churn_df = churn_df[['tenure', 'age', 'address', 'income', 'ed', 'employ', 'equip',   'callcard', 'wireless','churn']]\n",
        "churn_df['churn'] = churn_df['churn'].astype('int')\n",
        "churn_df.head()"
      ]
    },
    {
      "cell_type": "code",
      "execution_count": 16,
      "metadata": {
        "button": false,
        "new_sheet": false,
        "run_control": {
          "read_only": false
        },
        "colab": {
          "base_uri": "https://localhost:8080/"
        },
        "id": "NTeG1UrB9tGS",
        "outputId": "ea6bdc1d-1d91-4898-eb58-2f9bba08a181"
      },
      "outputs": [
        {
          "output_type": "execute_result",
          "data": {
            "text/plain": [
              "(200, 10)"
            ]
          },
          "metadata": {},
          "execution_count": 16
        }
      ],
      "source": [
        "churn_df.shape\n"
      ]
    },
    {
      "cell_type": "markdown",
      "metadata": {
        "id": "JFAJQoNG9tGT"
      },
      "source": [
        "### Define X, and y for the dataset:\n"
      ]
    },
    {
      "cell_type": "code",
      "execution_count": 17,
      "metadata": {
        "colab": {
          "base_uri": "https://localhost:8080/"
        },
        "id": "gEhdnIxU9tGT",
        "outputId": "513ff90b-a0dc-42e9-fc5c-5ee0f642667a"
      },
      "outputs": [
        {
          "output_type": "execute_result",
          "data": {
            "text/plain": [
              "array([[ 11.,  33.,   7., 136.,   5.,   5.,   0.],\n",
              "       [ 33.,  33.,  12.,  33.,   2.,   0.,   0.],\n",
              "       [ 23.,  30.,   9.,  30.,   1.,   2.,   0.],\n",
              "       [ 38.,  35.,   5.,  76.,   2.,  10.,   1.],\n",
              "       [  7.,  35.,  14.,  80.,   2.,  15.,   0.]])"
            ]
          },
          "metadata": {},
          "execution_count": 17
        }
      ],
      "source": [
        "# passando para vetor\n",
        "X = np.asarray(churn_df[['tenure', 'age', 'address', 'income', 'ed', 'employ', 'equip']])\n",
        "X[0:5]"
      ]
    },
    {
      "cell_type": "code",
      "execution_count": 18,
      "metadata": {
        "colab": {
          "base_uri": "https://localhost:8080/"
        },
        "id": "AxCCOvkQ9tGT",
        "outputId": "ba62ff10-81dc-4477-de40-ebc621335dc9"
      },
      "outputs": [
        {
          "output_type": "execute_result",
          "data": {
            "text/plain": [
              "array([1, 1, 0, 0, 0])"
            ]
          },
          "metadata": {},
          "execution_count": 18
        }
      ],
      "source": [
        "y = np.asarray(churn_df['churn'])\n",
        "y [0:5]"
      ]
    },
    {
      "cell_type": "markdown",
      "metadata": {
        "id": "fd4lpKfc9tGU"
      },
      "source": [
        "### Normalize the dataset:\n"
      ]
    },
    {
      "cell_type": "code",
      "execution_count": 19,
      "metadata": {
        "colab": {
          "base_uri": "https://localhost:8080/"
        },
        "id": "eEwi_5TB9tGU",
        "outputId": "8967d8c3-9d66-4b1d-ffe1-9c06c3e46638"
      },
      "outputs": [
        {
          "output_type": "execute_result",
          "data": {
            "text/plain": [
              "array([[-1.13518441, -0.62595491, -0.4588971 ,  0.4751423 ,  1.6961288 ,\n",
              "        -0.58477841, -0.85972695],\n",
              "       [-0.11604313, -0.62595491,  0.03454064, -0.32886061, -0.6433592 ,\n",
              "        -1.14437497, -0.85972695],\n",
              "       [-0.57928917, -0.85594447, -0.261522  , -0.35227817, -1.42318853,\n",
              "        -0.92053635, -0.85972695],\n",
              "       [ 0.11557989, -0.47262854, -0.65627219,  0.00679109, -0.6433592 ,\n",
              "        -0.02518185,  1.16316   ],\n",
              "       [-1.32048283, -0.47262854,  0.23191574,  0.03801451, -0.6433592 ,\n",
              "         0.53441472, -0.85972695]])"
            ]
          },
          "metadata": {},
          "execution_count": 19
        }
      ],
      "source": [
        "from sklearn import preprocessing\n",
        "X = preprocessing.StandardScaler().fit(X).transform(X)\n",
        "X[0:5]"
      ]
    },
    {
      "cell_type": "markdown",
      "metadata": {
        "id": "UeDQx1TG9tGU"
      },
      "source": [
        "### Train/Test dataset\n"
      ]
    },
    {
      "cell_type": "code",
      "execution_count": 20,
      "metadata": {
        "colab": {
          "base_uri": "https://localhost:8080/"
        },
        "id": "UMDz-lc69tGU",
        "outputId": "a1a1dd47-6919-4845-c20a-cdfea1830aa2"
      },
      "outputs": [
        {
          "output_type": "stream",
          "name": "stdout",
          "text": [
            "Train set: (160, 7) (160,)\n",
            "Test set: (40, 7) (40,)\n"
          ]
        }
      ],
      "source": [
        "from sklearn.model_selection import train_test_split\n",
        "X_train, X_test, y_train, y_test = train_test_split( X, y, test_size=0.2, random_state=4)\n",
        "print ('Train set:', X_train.shape,  y_train.shape)\n",
        "print ('Test set:', X_test.shape,  y_test.shape)"
      ]
    },
    {
      "cell_type": "markdown",
      "metadata": {
        "id": "pwDhOUxv9tGU"
      },
      "source": [
        "##Modeling (Logistic Regression with Scikit-learn)\n"
      ]
    },
    {
      "cell_type": "markdown",
      "metadata": {
        "id": "mDD3Z3Vu9tGV"
      },
      "source": [
        "Let's build our model using **LogisticRegression** from the Scikit-learn package. This function implements logistic regression and can use different numerical optimizers to find parameters, including ‘newton-cg’, ‘lbfgs’, ‘liblinear’, ‘sag’, ‘saga’ solvers. You can find extensive information about the pros and cons of these optimizers if you search it in the internet.\n",
        "\n",
        "The version of Logistic Regression in Scikit-learn, support regularization. Regularization is a technique used to solve the overfitting problem of machine learning models.\n",
        "**C** parameter indicates **inverse of regularization strength** which must be a positive float. Smaller values specify stronger regularization.\n",
        "Now let's fit our model with train set:\n"
      ]
    },
    {
      "cell_type": "code",
      "execution_count": 21,
      "metadata": {
        "colab": {
          "base_uri": "https://localhost:8080/"
        },
        "id": "1Ud3tff39tGV",
        "outputId": "c009dc96-2722-4901-8745-0552c047dd1a"
      },
      "outputs": [
        {
          "output_type": "execute_result",
          "data": {
            "text/plain": [
              "LogisticRegression(C=0.01, solver='liblinear')"
            ]
          },
          "metadata": {},
          "execution_count": 21
        }
      ],
      "source": [
        "from sklearn.linear_model import LogisticRegression\n",
        "from sklearn.metrics import confusion_matrix\n",
        "LR = LogisticRegression(C=0.01, solver='liblinear').fit(X_train,y_train)\n",
        "LR"
      ]
    },
    {
      "cell_type": "markdown",
      "metadata": {
        "id": "xabbdYxX9tGV"
      },
      "source": [
        "### Predict using our test set:\n"
      ]
    },
    {
      "cell_type": "code",
      "execution_count": 22,
      "metadata": {
        "colab": {
          "base_uri": "https://localhost:8080/"
        },
        "id": "1tDxTSaa9tGV",
        "outputId": "a04491c4-4eeb-4fb2-ea8e-f2929a4bf529"
      },
      "outputs": [
        {
          "output_type": "execute_result",
          "data": {
            "text/plain": [
              "array([0, 0, 0, 0, 0, 0, 0, 0, 1, 0, 0, 0, 1, 1, 0, 0, 0, 1, 1, 0, 0, 0,\n",
              "       0, 0, 0, 0, 0, 0, 0, 0, 0, 0, 1, 0, 0, 0, 1, 0, 0, 0])"
            ]
          },
          "metadata": {},
          "execution_count": 22
        }
      ],
      "source": [
        "yhat = LR.predict(X_test)\n",
        "yhat"
      ]
    },
    {
      "cell_type": "markdown",
      "metadata": {
        "id": "ZZ55cKyp9tGV"
      },
      "source": [
        "**predict_proba**  returns estimates for all classes, ordered by the label of classes. So, the first column is the probability of class 0, P(Y=0|X), and second column is probability of class 1, P(Y=1|X):\n"
      ]
    },
    {
      "cell_type": "code",
      "execution_count": 23,
      "metadata": {
        "colab": {
          "base_uri": "https://localhost:8080/"
        },
        "id": "s_Y1ab4c9tGV",
        "outputId": "91945f92-842c-4662-a6f3-e4affa0063fb"
      },
      "outputs": [
        {
          "output_type": "execute_result",
          "data": {
            "text/plain": [
              "array([[0.54132919, 0.45867081],\n",
              "       [0.60593357, 0.39406643],\n",
              "       [0.56277713, 0.43722287],\n",
              "       [0.63432489, 0.36567511],\n",
              "       [0.56431839, 0.43568161],\n",
              "       [0.55386646, 0.44613354],\n",
              "       [0.52237207, 0.47762793],\n",
              "       [0.60514349, 0.39485651],\n",
              "       [0.41069572, 0.58930428],\n",
              "       [0.6333873 , 0.3666127 ],\n",
              "       [0.58068791, 0.41931209],\n",
              "       [0.62768628, 0.37231372],\n",
              "       [0.47559883, 0.52440117],\n",
              "       [0.4267593 , 0.5732407 ],\n",
              "       [0.66172417, 0.33827583],\n",
              "       [0.55092315, 0.44907685],\n",
              "       [0.51749946, 0.48250054],\n",
              "       [0.485743  , 0.514257  ],\n",
              "       [0.49011451, 0.50988549],\n",
              "       [0.52423349, 0.47576651],\n",
              "       [0.61619519, 0.38380481],\n",
              "       [0.52696302, 0.47303698],\n",
              "       [0.63957168, 0.36042832],\n",
              "       [0.52205164, 0.47794836],\n",
              "       [0.50572852, 0.49427148],\n",
              "       [0.70706202, 0.29293798],\n",
              "       [0.55266286, 0.44733714],\n",
              "       [0.52271594, 0.47728406],\n",
              "       [0.51638863, 0.48361137],\n",
              "       [0.71331391, 0.28668609],\n",
              "       [0.67862111, 0.32137889],\n",
              "       [0.50896403, 0.49103597],\n",
              "       [0.42348082, 0.57651918],\n",
              "       [0.71495838, 0.28504162],\n",
              "       [0.59711064, 0.40288936],\n",
              "       [0.63808839, 0.36191161],\n",
              "       [0.39957895, 0.60042105],\n",
              "       [0.52127638, 0.47872362],\n",
              "       [0.65975464, 0.34024536],\n",
              "       [0.5114172 , 0.4885828 ]])"
            ]
          },
          "metadata": {},
          "execution_count": 23
        }
      ],
      "source": [
        "# retorna estimativas para todas as classes, ordenadas pelo rótulo das classes. \n",
        "# A 1ª coluna é a probabilidade da classe 0, P(Y=0|X)\n",
        "# A 2ª coluna é a probabilidade da classe 1, P(Y=1|X):\n",
        "yhat_prob = LR.predict_proba(X_test)\n",
        "yhat_prob"
      ]
    },
    {
      "cell_type": "markdown",
      "metadata": {
        "id": "f0KhvzWX9tGW"
      },
      "source": [
        "## Evaluation\n"
      ]
    },
    {
      "cell_type": "markdown",
      "metadata": {
        "id": "bHg9JNA_9tGW"
      },
      "source": [
        "### jaccard index\n",
        "\n",
        "Let's try the jaccard index for accuracy evaluation. we can define jaccard as the size of the intersection divided by the size of the union of the two label sets. If the entire set of predicted labels for a sample strictly matches with the true set of labels, then the subset accuracy is 1.0; otherwise it is 0.0.\n"
      ]
    },
    {
      "cell_type": "code",
      "execution_count": 24,
      "metadata": {
        "colab": {
          "base_uri": "https://localhost:8080/"
        },
        "id": "Xxj7ESPY9tGW",
        "outputId": "0dcb1d6c-cc42-448f-ca17-ed8008016bd6"
      },
      "outputs": [
        {
          "output_type": "execute_result",
          "data": {
            "text/plain": [
              "0.7058823529411765"
            ]
          },
          "metadata": {},
          "execution_count": 24
        }
      ],
      "source": [
        "from sklearn.metrics import jaccard_score\n",
        "jaccard_score(y_test, yhat,pos_label=0)"
      ]
    },
    {
      "cell_type": "markdown",
      "metadata": {
        "id": "4SOeCk3j9tGW"
      },
      "source": [
        "### Confusion matrix\n",
        "\n",
        "Another way of looking at the accuracy of the classifier is to look at **confusion matrix**.\n"
      ]
    },
    {
      "cell_type": "code",
      "execution_count": 25,
      "metadata": {
        "colab": {
          "base_uri": "https://localhost:8080/"
        },
        "id": "4hBcY8G59tGW",
        "outputId": "f784e162-8431-4a73-e01a-4699543c6cd5"
      },
      "outputs": [
        {
          "output_type": "stream",
          "name": "stdout",
          "text": [
            "[[ 6  9]\n",
            " [ 1 24]]\n"
          ]
        }
      ],
      "source": [
        "from sklearn.metrics import classification_report, confusion_matrix\n",
        "import itertools\n",
        "def plot_confusion_matrix(cm, classes,\n",
        "                          normalize=False,\n",
        "                          title='Confusion matrix',\n",
        "                          cmap=plt.cm.Blues):\n",
        "    \"\"\"\n",
        "    This function prints and plots the confusion matrix.\n",
        "    Normalization can be applied by setting `normalize=True`.\n",
        "    \"\"\"\n",
        "    if normalize:\n",
        "        cm = cm.astype('float') / cm.sum(axis=1)[:, np.newaxis]\n",
        "        print(\"Normalized confusion matrix\")\n",
        "    else:\n",
        "        print('Confusion matrix, without normalization')\n",
        "\n",
        "    print(cm)\n",
        "\n",
        "    plt.imshow(cm, interpolation='nearest', cmap=cmap)\n",
        "    plt.title(title)\n",
        "    plt.colorbar()\n",
        "    tick_marks = np.arange(len(classes))\n",
        "    plt.xticks(tick_marks, classes, rotation=45)\n",
        "    plt.yticks(tick_marks, classes)\n",
        "\n",
        "    fmt = '.2f' if normalize else 'd'\n",
        "    thresh = cm.max() / 2.\n",
        "    for i, j in itertools.product(range(cm.shape[0]), range(cm.shape[1])):\n",
        "        plt.text(j, i, format(cm[i, j], fmt),\n",
        "                 horizontalalignment=\"center\",\n",
        "                 color=\"white\" if cm[i, j] > thresh else \"black\")\n",
        "\n",
        "    plt.tight_layout()\n",
        "    plt.ylabel('True label')\n",
        "    plt.xlabel('Predicted label')\n",
        "print(confusion_matrix(y_test, yhat, labels=[1,0]))"
      ]
    },
    {
      "cell_type": "code",
      "execution_count": 26,
      "metadata": {
        "colab": {
          "base_uri": "https://localhost:8080/",
          "height": 365
        },
        "id": "Uv-OOrZh9tGX",
        "outputId": "46daecbd-fbdb-494a-892d-4e3d05acc4da"
      },
      "outputs": [
        {
          "output_type": "stream",
          "name": "stdout",
          "text": [
            "Confusion matrix, without normalization\n",
            "[[ 6  9]\n",
            " [ 1 24]]\n"
          ]
        },
        {
          "output_type": "display_data",
          "data": {
            "text/plain": [
              "<Figure size 432x288 with 2 Axes>"
            ],
            "image/png": "[encoded data removed]"
          },
          "metadata": {
            "needs_background": "light"
          }
        }
      ],
      "source": [
        "# Compute confusion matrix\n",
        "cnf_matrix = confusion_matrix(y_test, yhat, labels=[1,0])\n",
        "np.set_printoptions(precision=2)\n",
        "\n",
        "\n",
        "# Plot non-normalized confusion matrix\n",
        "plt.figure()\n",
        "plot_confusion_matrix(cnf_matrix, classes=['churn=1','churn=0'],normalize= False,  title='Confusion matrix')"
      ]
    },
    {
      "cell_type": "markdown",
      "metadata": {
        "id": "z3PdMDDY9tGX"
      },
      "source": [
        "Out of 40 customers, the churn value of 15 of them is 1.Out of these 15 cases, the classifier correctly predicted 6 of them as 1, and 9 of them as 0. For 6 customers, the actual churn value was 1 in test set and classifier also correctly predicted those as 1. However, while the actual label of 9 customers was 1, the classifier predicted those as 0, which is not very good. We can consider it as the error of the model for first row.\n",
        "\n",
        "\n",
        "There were 25 customers whom their churn value were 0.The classifier correctly predicted 24 of them as 0, and one of them wrongly as 1. So, it has done a good job in predicting the customers with churn value 0. \n",
        "\n",
        "A good thing about the confusion matrix is that it shows the model’s ability to correctly predict or separate the classes.  In a specific case of the binary classifier, such as this example,  we can interpret these numbers as the count of true positives, false positives, true negatives, and false negatives.\n",
        "\n",
        "\n",
        "![image.png](data:image/png;base64,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)"
      ]
    },
    {
      "cell_type": "code",
      "execution_count": 27,
      "metadata": {
        "colab": {
          "base_uri": "https://localhost:8080/"
        },
        "id": "k5lDSzYJ9tGX",
        "outputId": "7b1736f4-96f5-4e1c-fdba-f95f46862434"
      },
      "outputs": [
        {
          "output_type": "stream",
          "name": "stdout",
          "text": [
            "              precision    recall  f1-score   support\n",
            "\n",
            "           0       0.73      0.96      0.83        25\n",
            "           1       0.86      0.40      0.55        15\n",
            "\n",
            "    accuracy                           0.75        40\n",
            "   macro avg       0.79      0.68      0.69        40\n",
            "weighted avg       0.78      0.75      0.72        40\n",
            "\n"
          ]
        }
      ],
      "source": [
        "print (classification_report(y_test, yhat))\n"
      ]
    },
    {
      "cell_type": "markdown",
      "metadata": {
        "id": "i-4upgWe9tGY"
      },
      "source": [
        "Based on the count of each section, we can calculate precision and recall of each label:\n",
        "\n",
        "*   **Precision** is a measure of the accuracy provided that a class label has been predicted. It is defined by: precision = TP / (TP + FP)\n",
        "\n",
        "*   **Recall** is the true positive rate. It is defined as: Recall =  TP / (TP + FN)\n",
        "\n",
        "So, we can calculate the precision and recall of each class.\n",
        "\n",
        "**F1 score:**\n",
        "Now we are in the position to calculate the F1 scores for each label based on the precision and recall of that label.\n",
        "\n",
        "The F1 score is the harmonic average of the precision and recall, where an F1 score reaches its best value at 1 (perfect precision and recall) and worst at 0. It is a good way to show that a classifer has a good value for both recall and precision.\n",
        "\n",
        "Finally, we can tell the average accuracy for this classifier is the average of the F1-score for both labels, which is 0.72 in our case.\n"
      ]
    },
    {
      "cell_type": "markdown",
      "metadata": {
        "id": "oYOzm_289tGY"
      },
      "source": [
        "### Log loss\n",
        "\n",
        "Now, let's try **log loss** for evaluation. In logistic regression, the output can be the probability of customer churn is yes (or equals to 1). This probability is a value between 0 and 1.\n",
        "Log loss( Logarithmic loss) measures the performance of a classifier where the predicted output is a probability value between 0 and 1.\n"
      ]
    },
    {
      "cell_type": "code",
      "execution_count": 28,
      "metadata": {
        "colab": {
          "base_uri": "https://localhost:8080/"
        },
        "id": "zZFK1ryP9tGY",
        "outputId": "54a131a8-ae21-4304-b347-4ef32bb034f0"
      },
      "outputs": [
        {
          "output_type": "execute_result",
          "data": {
            "text/plain": [
              "0.6017092478101185"
            ]
          },
          "metadata": {},
          "execution_count": 28
        }
      ],
      "source": [
        "from sklearn.metrics import log_loss\n",
        "log_loss(y_test, yhat_prob)"
      ]
    },
    {
      "cell_type": "markdown",
      "metadata": {
        "id": "ppw2460X9tGY"
      },
      "source": [
        "## Practice\n",
        "Try to build Logistic Regression model again for the same dataset, but this time, use different __solver__ and __regularization__ values? What is new __logLoss__ value?\n"
      ]
    },
    {
      "cell_type": "code",
      "execution_count": null,
      "metadata": {
        "id": "Ycaue1fg9tGZ"
      },
      "outputs": [],
      "source": [
        "# Logistic Regression\n",
        "LR2 = LogisticRegression(C=0.01, solver='sag').fit(X_train,y_train)\n",
        "LR2\n",
        "#predict_proba\n",
        "yhat_prob_2 = LR2.predict_proba(X_test)\n",
        "yhat_prob_2\n"
      ]
    },
    {
      "cell_type": "code",
      "source": [
        "print('LofLoss2 = %.2f'%log_loss(y_test, yhat_prob_2))"
      ],
      "metadata": {
        "colab": {
          "base_uri": "https://localhost:8080/"
        },
        "id": "B8LVNUc6xXXt",
        "outputId": "9cf8d924-fc61-423f-a4bb-800466acb259"
      },
      "execution_count": 35,
      "outputs": [
        {
          "output_type": "stream",
          "name": "stdout",
          "text": [
            "LofLoss2 = 0.61\n"
          ]
        }
      ]
    }
  ],
  "metadata": {
    "kernelspec": {
      "display_name": "Python 3 (ipykernel)",
      "language": "python",
      "name": "python3"
    },
    "language_info": {
      "codemirror_mode": {
        "name": "ipython",
        "version": 3
      },
      "file_extension": ".py",
      "mimetype": "text/x-python",
      "name": "python",
      "nbconvert_exporter": "python",
      "pygments_lexer": "ipython3",
      "version": "3.9.7"
    },
    "colab": {
      "name": "07- Classificacao-Regressao_Logistica.ipynb",
      "provenance": [],
      "toc_visible": true
    }
  },
  "nbformat": 4,
  "nbformat_minor": 0
}
